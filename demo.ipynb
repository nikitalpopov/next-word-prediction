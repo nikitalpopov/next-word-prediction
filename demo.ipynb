{
 "cells": [
  {
   "cell_type": "markdown",
   "metadata": {},
   "source": [
    "# train data\n",
    "\n",
    "there is news text dataset used to train prediction model\n",
    "\n",
    "## single article (out of 50000)"
   ]
  },
  {
   "cell_type": "code",
   "execution_count": 1,
   "metadata": {
    "scrolled": true
   },
   "outputs": [
    {
     "name": "stdout",
     "output_type": "stream",
     "text": [
      "Patriots Day, Peter Berg’s new thriller that recreates the 2013 Boston Marathon bombing and the ensuing manhunt that followed it, is a surprisingly oblique, morally ambiguous movie from a typically straightforward filmmaker. Patriots Day takes an unexpectedly cynical view of the chaos, rash   and bureaucratic infighting that followed the bombing —  the question is whether that was Berg’s intended message. For its grim   running time, the movie celebrates the men on the ground who helped bring the bombers to justice, but it’s the glimpses of something more complicated than jingoism that really linger. The scene that best illustrates this dichotomy comes late in Patriots Day. As the search for one of the bombers, Dzhokhar Tsarnaev, intensifies, his brother’s wife Katherine (Melissa Benoist) is brought in for interrogation on her connections to the case. As she asks for a lawyer, protesting that she “has rights,” her steely interviewer (Khandi Alexander) tuts, “Honey, you ain’t got shit. ” It’s a Hollywood line intended to provoke a big cheer from the audience, despite its queasy legal undertones. But the film presents it as just that —  a cheesy line. The questioning goes nowhere, and the interrogator exits with a shrug as the movie notes in its   Katherine was never charged with any crime. Patriots Day is filled with this kind of bluster, but the film’s most compelling moments serve to undercut it. Deepwater Horizon Stays Too Close to the Surface, Working against those more interesting themes is the man at the center of the movie, Boston Police Sergeant Tommy Saunders, a fictional character invented to serve as the audience’s eyes and ears at every major turning point of the attacks. He’s played by Mark Wahlberg, the polestar of Berg’s new genre of   storytelling who has played the mouthy heroes at the center of Lone Survivor (2013) Deepwater Horizon (2016) and now Patriots Day. Unlike those other films, Wahlberg’s character in Patriots Day didn’t really exist, and he often comes across as a bundle of screenwriting clichés. He’s nursing a bum knee and was recently demoted due to insubordination, but somehow is on   terms with every cop, uniformed or otherwise, in the city. When the film is focused on Saunders, as it mostly is, it feels like a straight recreation of a traumatic event that occurred less than four years ago. Berg largely does well to avoid sensationalizing the 2013 bombing, which killed 3 and wounded 264 others, and the subsequent manhunt that claimed the life of a police officer. At no point does Patriots Day feel like a glitzy action movie or a gory piece of horror. The violence of that day is not lingered on, outside of an effort to make its victims feel like real people by depicting snippets of their lives beforehand. Wahlberg, for his part, can’t help but make Saunders feel like a bit of a stereotype he’s a     movie cop in a film that’s otherwise seeking nuance. Saunders, it seems, is supposed to stand in for the generally lovable, belligerent Boston spirit that prevailed in the days after the marathon, and Berg drills that point home far too many times. There are bits that work —  in the immediate aftermath of the bombs, Wahlberg successfully communicates how angry and shaken Saunders is, rather than switching into    hero mode. He does a decent job selling the trauma, but once his hefty attitude returns, Patriots Day snaps back to severe unreality. That’s too bad, since the film is most fascinating when it faithfully conveys the confusion of the days after the bombing, and the   of differing opinions and clashing egos. The FBI, led by    agent Richard DesLauriers (Kevin Bacon) takes over the case, recreating the blocks attacked with   bombs inside a gigantic warehouse and combing through surveillance videos for clues. Boston Police Commissioner Ed Davis (John Goodman) Massachusetts Governor Deval Patrick (Michael Beach) and Boston Mayor Thomas Menino (Vincent Curatola) gather there to offer their own guidance on the case. Saunders is present too, for some reason, mostly providing expertise on the businesses around Boylston Street. The thorny, mucky,   debates that played out during the manhunt are the best parts of the film. Berg accurately shows DesLauriers agonizing over whether to release the pictures of the Tsarnaev brothers gleaned from surveillance cameras before he’s fully substantiated that they’re the bombers his hand is eventually forced by a leak to the media. That sets into action the series of events that led to a deadly shootout with the Tsarnaev brothers in Watertown (J. K. Simmons plays a police sergeant there). Berg is wise to delve into the utter chaos of that manhunt, which included a brief, informal declaration of martial law and a bizarre, bloody standoff with the brothers that saw them lobbing pipe bombs at cop cars. It’s bedlam, in other words —  total disorder and madness, the kind of violence and fear that terrorism is intended to provoke, even from those trying to stop it. The Boston PD’s efforts to capture the Tsarnaev brothers is justly depicted as heroic, but it’s the crazed   the random chains of events, and the empty, angry posturing that stick out as most worthy of analysis. If Berg had dug deeper, he could have had a great film on his hands as it stands, he’s delivered a rote, but occasionally   misfire.\n",
      "\n"
     ]
    }
   ],
   "source": [
    "with open(\"demo-server/input.txt\") as input_file:\n",
    "    article = next(input_file)\n",
    "    print(article)"
   ]
  },
  {
   "cell_type": "markdown",
   "metadata": {},
   "source": [
    "## cleaned article\n",
    "\n",
    "punctuation characters are removed, text is lowered, words are lemmatized"
   ]
  },
  {
   "cell_type": "code",
   "execution_count": 2,
   "metadata": {
    "scrolled": true
   },
   "outputs": [
    {
     "name": "stdout",
     "output_type": "stream",
     "text": [
      "patriots day peter berg new thriller that recreates the boston marathon bombing and the ensuing manhunt that followed it is a surprisingly oblique morally ambiguous movie from a typically straightforward filmmaker patriots day takes an unexpectedly cynical view of the chaos rash and bureaucratic infighting that followed the bombing the question is whether that was berg intended message for its grim running time the movie celebrates the men on the ground who helped bring the bombers to justice but it the glimpses of something more complicated than jingoism that really linger the scene that best illustrates this dichotomy comes late in patriots day as the search for one of the bombers dzhokhar tsarnaev intensifies his brother wife katherine melissa benoist is brought in for interrogation on her connections to the case as she asks for a lawyer protesting that she has rights her steely interviewer khandi alexander tuts honey you ain got shit it a hollywood line intended to provoke a big cheer from the audience despite its queasy legal undertones but the film presents it as just that a cheesy line the questioning goes nowhere and the interrogator exits with a shrug as the movie notes in its katherine was never charged with any crime patriots day is filled with this kind of bluster but the film most compelling moments serve to undercut it deepwater horizon stays too close to the surface working against those more interesting themes is the man at the center of the movie boston police sergeant tommy saunders a fictional character invented to serve as the audience eyes and ears at every major turning point of the attacks he played by mark wahlberg the polestar of berg new genre of storytelling who has played the mouthy heroes at the center of lone survivor deepwater horizon and now patriots day unlike those other films wahlberg character in patriots day didn really exist and he often comes across as a bundle of screenwriting clich he nursing a bum knee and was recently demoted due to insubordination but somehow is on terms with every cop uniformed or otherwise in the city when the film is focused on saunders as it mostly is it feels like a straight recreation of a traumatic event that occurred less than four years ago berg largely does well to avoid sensationalizing the bombing which killed and wounded others and the subsequent manhunt that claimed the life of a police officer at no point does patriots day feel like a glitzy action movie or a gory piece of horror the violence of that day is not lingered on outside of an effort to make its victims feel like real people by depicting snippets of their lives beforehand wahlberg for his part can help but make saunders feel like a bit of a stereotype he a movie cop in a film that otherwise seeking nuance saunders it seems is supposed to stand in for the generally lovable belligerent boston spirit that prevailed in the days after the marathon and berg drills that point home far too many times there are bits that work in the immediate aftermath of the bombs wahlberg successfully communicates how angry and shaken saunders is rather than switching into hero mode he does a decent job selling the trauma but once his hefty attitude returns patriots day snaps back to severe unreality that too bad since the film is most fascinating when it faithfully conveys the confusion of the days after the bombing and the of differing opinions and clashing egos the fbi led by agent richard deslauriers kevin bacon takes over the case recreating the blocks attacked with bombs inside a gigantic warehouse and combing through surveillance videos for clues boston police commissioner ed davis john goodman massachusetts governor deval patrick michael beach and boston mayor thomas menino vincent curatola gather there to offer their own guidance on the case saunders is present too for some reason mostly providing expertise on the businesses around boylston street the thorny mucky debates that played out during the manhunt are the best parts of the film berg accurately shows deslauriers agonizing over whether to release the pictures of the tsarnaev brothers gleaned from surveillance cameras before he fully substantiated that they re the bombers his hand is eventually forced by a leak to the media that sets into action the series of events that led to a deadly shootout with the tsarnaev brothers in watertown simmons plays a police sergeant there berg is wise to delve into the utter chaos of that manhunt which included a brief informal declaration of martial law and a bizarre bloody standoff with the brothers that saw them lobbing pipe bombs at cop cars it bedlam in other words total disorder and madness the kind of violence and fear that terrorism is intended to provoke even from those trying to stop it the boston pd efforts to capture the tsarnaev brothers is justly depicted as heroic but it the crazed the random chains of events and the empty angry posturing that stick out as most worthy of analysis if berg had dug deeper he could have had a great film on his hands as it stands he delivered a rote but occasionally misfire\n",
      "\n"
     ]
    }
   ],
   "source": [
    "with open(\"demo-server/cleaned.txt\") as input_file:\n",
    "    article = next(input_file)\n",
    "    print(article)"
   ]
  },
  {
   "cell_type": "markdown",
   "metadata": {},
   "source": [
    "## n-grams model\n",
    "\n",
    "some data retrieved from first 50 articles (56302 words)"
   ]
  },
  {
   "cell_type": "code",
   "execution_count": 9,
   "metadata": {},
   "outputs": [
    {
     "name": "stdout",
     "output_type": "stream",
     "text": [
      "a                          1878\n",
      "a a                          69\n",
      "a a archbishop                1\n",
      "a a archbishop from           1\n",
      "a a archbishop from new       1\n",
      "dtype: int64 \n",
      "\n",
      "['a', 'a a', 'a a archbishop', 'a a archbishop from', 'a a archbishop from new', 'a a beacon', 'a a beacon of', 'a a beacon of decency', 'a a blind', 'a a blind trust'] \n",
      "\n",
      "a          0.033349\n",
      "aage       0.000018\n",
      "aahed      0.000018\n",
      "aasif      0.000018\n",
      "abandon    0.000018\n",
      "dtype: float64 \n",
      "\n",
      "the    0.060501\n",
      "a      0.033349\n",
      "of     0.031094\n",
      "to     0.028146\n",
      "and    0.023831\n",
      "dtype: float64 \n",
      "\n"
     ]
    }
   ],
   "source": [
    "import pandas as pd\n",
    "\n",
    "sums = pd.Series.from_csv(\"demo-server/demo/sums.csv\", index_col=0, header=None)\n",
    "print(sums.head(), '\\n')\n",
    "\n",
    "ngrams = list(sums.index.values)\n",
    "print(ngrams[0:10], '\\n')\n",
    "\n",
    "bf = pd.Series.from_csv(\"demo-server/demo/base_freq.csv\", index_col=0, header=None)\n",
    "print(bf.head(), '\\n')\n",
    "print(bf.sort_values(ascending=False).head(), '\\n')"
   ]
  },
  {
   "cell_type": "markdown",
   "metadata": {},
   "source": [
    "# web server answer example\n",
    "\n",
    "for input \"hello to the\" server answers:"
   ]
  },
  {
   "cell_type": "code",
   "execution_count": 4,
   "metadata": {
    "scrolled": false
   },
   "outputs": [
    {
     "data": {
      "text/html": [
       "<iframe src=\"http://127.0.0.1:5000/?input=i%20am%20not\" width=\"800\" height=\"50\"></iframe>\n"
      ],
      "text/plain": [
       "<IPython.core.display.HTML object>"
      ]
     },
     "metadata": {},
     "output_type": "display_data"
    }
   ],
   "source": [
    "%%html\n",
    "<iframe src=\"http://127.0.0.1:5000/?input=i%20am%20not\" width=\"800\" height=\"50\"></iframe>"
   ]
  },
  {
   "cell_type": "markdown",
   "metadata": {},
   "source": [
    "# demo web app"
   ]
  },
  {
   "cell_type": "code",
   "execution_count": 5,
   "metadata": {
    "scrolled": false
   },
   "outputs": [
    {
     "data": {
      "text/html": [
       "<iframe src=\"http://localhost:4200/\" width=\"800\" height=\"350\"></iframe>\n"
      ],
      "text/plain": [
       "<IPython.core.display.HTML object>"
      ]
     },
     "metadata": {},
     "output_type": "display_data"
    }
   ],
   "source": [
    "%%html\n",
    "<iframe src=\"http://localhost:4200/\" width=\"800\" height=\"350\"></iframe>"
   ]
  },
  {
   "cell_type": "code",
   "execution_count": null,
   "metadata": {},
   "outputs": [],
   "source": []
  }
 ],
 "metadata": {
  "kernelspec": {
   "display_name": "Python 3",
   "language": "python",
   "name": "python3"
  },
  "language_info": {
   "codemirror_mode": {
    "name": "ipython",
    "version": 3
   },
   "file_extension": ".py",
   "mimetype": "text/x-python",
   "name": "python",
   "nbconvert_exporter": "python",
   "pygments_lexer": "ipython3",
   "version": "3.7.4"
  }
 },
 "nbformat": 4,
 "nbformat_minor": 2
}
